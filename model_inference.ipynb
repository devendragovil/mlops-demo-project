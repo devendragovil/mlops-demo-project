{
 "cells": [
  {
   "cell_type": "code",
   "execution_count": 1,
   "metadata": {},
   "outputs": [],
   "source": [
    "import boto3\n",
    "import pandas as pd\n",
    "import numpy as np\n",
    "import pickle\n",
    "import json\n",
    "import uuid"
   ]
  },
  {
   "cell_type": "code",
   "execution_count": 2,
   "metadata": {},
   "outputs": [],
   "source": [
    "with open('final_model', 'rb') as f:\n",
    "    model = pickle.load(f)"
   ]
  },
  {
   "cell_type": "code",
   "execution_count": 3,
   "metadata": {},
   "outputs": [
    {
     "data": {
      "text/html": [
       "<style>#sk-container-id-1 {color: black;}#sk-container-id-1 pre{padding: 0;}#sk-container-id-1 div.sk-toggleable {background-color: white;}#sk-container-id-1 label.sk-toggleable__label {cursor: pointer;display: block;width: 100%;margin-bottom: 0;padding: 0.3em;box-sizing: border-box;text-align: center;}#sk-container-id-1 label.sk-toggleable__label-arrow:before {content: \"▸\";float: left;margin-right: 0.25em;color: #696969;}#sk-container-id-1 label.sk-toggleable__label-arrow:hover:before {color: black;}#sk-container-id-1 div.sk-estimator:hover label.sk-toggleable__label-arrow:before {color: black;}#sk-container-id-1 div.sk-toggleable__content {max-height: 0;max-width: 0;overflow: hidden;text-align: left;background-color: #f0f8ff;}#sk-container-id-1 div.sk-toggleable__content pre {margin: 0.2em;color: black;border-radius: 0.25em;background-color: #f0f8ff;}#sk-container-id-1 input.sk-toggleable__control:checked~div.sk-toggleable__content {max-height: 200px;max-width: 100%;overflow: auto;}#sk-container-id-1 input.sk-toggleable__control:checked~label.sk-toggleable__label-arrow:before {content: \"▾\";}#sk-container-id-1 div.sk-estimator input.sk-toggleable__control:checked~label.sk-toggleable__label {background-color: #d4ebff;}#sk-container-id-1 div.sk-label input.sk-toggleable__control:checked~label.sk-toggleable__label {background-color: #d4ebff;}#sk-container-id-1 input.sk-hidden--visually {border: 0;clip: rect(1px 1px 1px 1px);clip: rect(1px, 1px, 1px, 1px);height: 1px;margin: -1px;overflow: hidden;padding: 0;position: absolute;width: 1px;}#sk-container-id-1 div.sk-estimator {font-family: monospace;background-color: #f0f8ff;border: 1px dotted black;border-radius: 0.25em;box-sizing: border-box;margin-bottom: 0.5em;}#sk-container-id-1 div.sk-estimator:hover {background-color: #d4ebff;}#sk-container-id-1 div.sk-parallel-item::after {content: \"\";width: 100%;border-bottom: 1px solid gray;flex-grow: 1;}#sk-container-id-1 div.sk-label:hover label.sk-toggleable__label {background-color: #d4ebff;}#sk-container-id-1 div.sk-serial::before {content: \"\";position: absolute;border-left: 1px solid gray;box-sizing: border-box;top: 0;bottom: 0;left: 50%;z-index: 0;}#sk-container-id-1 div.sk-serial {display: flex;flex-direction: column;align-items: center;background-color: white;padding-right: 0.2em;padding-left: 0.2em;position: relative;}#sk-container-id-1 div.sk-item {position: relative;z-index: 1;}#sk-container-id-1 div.sk-parallel {display: flex;align-items: stretch;justify-content: center;background-color: white;position: relative;}#sk-container-id-1 div.sk-item::before, #sk-container-id-1 div.sk-parallel-item::before {content: \"\";position: absolute;border-left: 1px solid gray;box-sizing: border-box;top: 0;bottom: 0;left: 50%;z-index: -1;}#sk-container-id-1 div.sk-parallel-item {display: flex;flex-direction: column;z-index: 1;position: relative;background-color: white;}#sk-container-id-1 div.sk-parallel-item:first-child::after {align-self: flex-end;width: 50%;}#sk-container-id-1 div.sk-parallel-item:last-child::after {align-self: flex-start;width: 50%;}#sk-container-id-1 div.sk-parallel-item:only-child::after {width: 0;}#sk-container-id-1 div.sk-dashed-wrapped {border: 1px dashed gray;margin: 0 0.4em 0.5em 0.4em;box-sizing: border-box;padding-bottom: 0.4em;background-color: white;}#sk-container-id-1 div.sk-label label {font-family: monospace;font-weight: bold;display: inline-block;line-height: 1.2em;}#sk-container-id-1 div.sk-label-container {text-align: center;}#sk-container-id-1 div.sk-container {/* jupyter's `normalize.less` sets `[hidden] { display: none; }` but bootstrap.min.css set `[hidden] { display: none !important; }` so we also need the `!important` here to be able to override the default hidden behavior on the sphinx rendered scikit-learn.org. See: https://github.com/scikit-learn/scikit-learn/issues/21755 */display: inline-block !important;position: relative;}#sk-container-id-1 div.sk-text-repr-fallback {display: none;}</style><div id=\"sk-container-id-1\" class=\"sk-top-container\"><div class=\"sk-text-repr-fallback\"><pre>RandomForestClassifier(max_depth=8, n_estimators=250, random_state=100)</pre><b>In a Jupyter environment, please rerun this cell to show the HTML representation or trust the notebook. <br />On GitHub, the HTML representation is unable to render, please try loading this page with nbviewer.org.</b></div><div class=\"sk-container\" hidden><div class=\"sk-item\"><div class=\"sk-estimator sk-toggleable\"><input class=\"sk-toggleable__control sk-hidden--visually\" id=\"sk-estimator-id-1\" type=\"checkbox\" checked><label for=\"sk-estimator-id-1\" class=\"sk-toggleable__label sk-toggleable__label-arrow\">RandomForestClassifier</label><div class=\"sk-toggleable__content\"><pre>RandomForestClassifier(max_depth=8, n_estimators=250, random_state=100)</pre></div></div></div></div></div>"
      ],
      "text/plain": [
       "RandomForestClassifier(max_depth=8, n_estimators=250, random_state=100)"
      ]
     },
     "execution_count": 3,
     "metadata": {},
     "output_type": "execute_result"
    }
   ],
   "source": [
    "model"
   ]
  },
  {
   "cell_type": "code",
   "execution_count": 4,
   "metadata": {},
   "outputs": [],
   "source": [
    "bt3s = boto3.Session(profile_name='dgovil-cli')"
   ]
  },
  {
   "cell_type": "code",
   "execution_count": 5,
   "metadata": {},
   "outputs": [],
   "source": [
    "ddb = bt3s.client('dynamodb')"
   ]
  },
  {
   "cell_type": "code",
   "execution_count": 6,
   "metadata": {},
   "outputs": [
    {
     "data": {
      "text/plain": [
       "{'TableNames': ['customer-applications'],\n",
       " 'ResponseMetadata': {'RequestId': 'VF42EG0C46UIGUSU8QEMV5RG8FVV4KQNSO5AEMVJF66Q9ASUAAJG',\n",
       "  'HTTPStatusCode': 200,\n",
       "  'HTTPHeaders': {'server': 'Server',\n",
       "   'date': 'Sat, 02 Dec 2023 06:08:12 GMT',\n",
       "   'content-type': 'application/x-amz-json-1.0',\n",
       "   'content-length': '40',\n",
       "   'connection': 'keep-alive',\n",
       "   'x-amzn-requestid': 'VF42EG0C46UIGUSU8QEMV5RG8FVV4KQNSO5AEMVJF66Q9ASUAAJG',\n",
       "   'x-amz-crc32': '1126266486'},\n",
       "  'RetryAttempts': 0}}"
      ]
     },
     "execution_count": 6,
     "metadata": {},
     "output_type": "execute_result"
    }
   ],
   "source": [
    "ddb.list_tables()"
   ]
  },
  {
   "cell_type": "code",
   "execution_count": 27,
   "metadata": {},
   "outputs": [],
   "source": [
    "data = [\n",
    "    10,\n",
    "    1,\n",
    "    4,\n",
    "    1,\n",
    "    22,\n",
    "    10,\n",
    "    10,\n",
    "    10,\n",
    "    10,\n",
    "    10,\n",
    "    10,\n",
    "]"
   ]
  },
  {
   "cell_type": "code",
   "execution_count": 28,
   "metadata": {},
   "outputs": [
    {
     "name": "stderr",
     "output_type": "stream",
     "text": [
      "/Users/devendragovil/AllClassesMaterial/MLOps_Nico/Project/mlops-demo-project/.venv/lib/python3.11/site-packages/sklearn/base.py:465: UserWarning: X does not have valid feature names, but RandomForestClassifier was fitted with feature names\n",
      "  warnings.warn(\n"
     ]
    },
    {
     "data": {
      "text/plain": [
       "1"
      ]
     },
     "execution_count": 28,
     "metadata": {},
     "output_type": "execute_result"
    }
   ],
   "source": [
    "model.predict([data])[0]"
   ]
  },
  {
   "cell_type": "code",
   "execution_count": 9,
   "metadata": {},
   "outputs": [
    {
     "data": {
      "text/plain": [
       "{'Items': [{'PAY_3': {'N': '0'},\n",
       "   'PAY_2': {'N': '0'},\n",
       "   'PAY_0': {'N': '0'},\n",
       "   'SEX': {'N': '2'},\n",
       "   'PAY_6': {'N': '0'},\n",
       "   'LIMIT_BAL': {'N': '100000'},\n",
       "   'PAY_5': {'N': '0'},\n",
       "   'PAY_4': {'N': '0'},\n",
       "   'EDUCATION': {'N': '2'},\n",
       "   'MARRIAGE': {'N': '1'},\n",
       "   'ID': {'S': '5344967f-048b-4c46-875f-a2878a184f4f'},\n",
       "   'AGE': {'N': '24'}}],\n",
       " 'Count': 1,\n",
       " 'ScannedCount': 1,\n",
       " 'ResponseMetadata': {'RequestId': '9SKM2CA55T71LOUA9KAAKH4FC7VV4KQNSO5AEMVJF66Q9ASUAAJG',\n",
       "  'HTTPStatusCode': 200,\n",
       "  'HTTPHeaders': {'server': 'Server',\n",
       "   'date': 'Sat, 02 Dec 2023 06:08:31 GMT',\n",
       "   'content-type': 'application/x-amz-json-1.0',\n",
       "   'content-length': '301',\n",
       "   'connection': 'keep-alive',\n",
       "   'x-amzn-requestid': '9SKM2CA55T71LOUA9KAAKH4FC7VV4KQNSO5AEMVJF66Q9ASUAAJG',\n",
       "   'x-amz-crc32': '2075625734'},\n",
       "  'RetryAttempts': 0}}"
      ]
     },
     "execution_count": 9,
     "metadata": {},
     "output_type": "execute_result"
    }
   ],
   "source": [
    "ddb.scan(TableName='customer-applications')"
   ]
  },
  {
   "cell_type": "code",
   "execution_count": 10,
   "metadata": {},
   "outputs": [],
   "source": [
    "uuid = uuid.uuid4()"
   ]
  },
  {
   "cell_type": "code",
   "execution_count": 11,
   "metadata": {},
   "outputs": [],
   "source": [
    "item = {\n",
    "    'ID': {\n",
    "        'S': str(uuid),\n",
    "    },\n",
    "    'LIMIT_BAL': {\n",
    "        'N': str(data[0]),\n",
    "    },\n",
    "    'SEX': {\n",
    "        'N': str(data[1]),\n",
    "    },\n",
    "    'EDUCATION': {\n",
    "        'N': str(data[2]),\n",
    "    },\n",
    "    'MARRIAGE': {\n",
    "        'N': str(data[3]),\n",
    "    },\n",
    "    'AGE': {\n",
    "        'N': str(data[4]),\n",
    "    },\n",
    "    'PAY_0': {\n",
    "        'N': str(data[5]),\n",
    "    },\n",
    "    'PAY_2': {\n",
    "        'N': str(data[6]),\n",
    "    },\n",
    "    'PAY_3': {\n",
    "        'N': str(data[7]),\n",
    "    },\n",
    "    'PAY_4': {\n",
    "        'N': str(data[8]),\n",
    "    },\n",
    "    'PAY_5': {\n",
    "        'N': str(data[9]),\n",
    "    },\n",
    "    'PAY_6': {\n",
    "        'N': str(data[10]),\n",
    "    },\n",
    "}"
   ]
  },
  {
   "cell_type": "code",
   "execution_count": 12,
   "metadata": {},
   "outputs": [
    {
     "data": {
      "text/plain": [
       "{'ResponseMetadata': {'RequestId': 'AI9T2V9B7H82R5GQ84NN2UBNT7VV4KQNSO5AEMVJF66Q9ASUAAJG',\n",
       "  'HTTPStatusCode': 200,\n",
       "  'HTTPHeaders': {'server': 'Server',\n",
       "   'date': 'Sat, 02 Dec 2023 06:08:39 GMT',\n",
       "   'content-type': 'application/x-amz-json-1.0',\n",
       "   'content-length': '2',\n",
       "   'connection': 'keep-alive',\n",
       "   'x-amzn-requestid': 'AI9T2V9B7H82R5GQ84NN2UBNT7VV4KQNSO5AEMVJF66Q9ASUAAJG',\n",
       "   'x-amz-crc32': '2745614147'},\n",
       "  'RetryAttempts': 0}}"
      ]
     },
     "execution_count": 12,
     "metadata": {},
     "output_type": "execute_result"
    }
   ],
   "source": [
    "ddb.put_item(Item=item, TableName='customer-applications')"
   ]
  },
  {
   "cell_type": "code",
   "execution_count": 16,
   "metadata": {},
   "outputs": [],
   "source": [
    "items = ddb.scan(TableName='customer-applications')['Items']"
   ]
  },
  {
   "cell_type": "code",
   "execution_count": 17,
   "metadata": {},
   "outputs": [
    {
     "data": {
      "text/plain": [
       "[{'PAY_3': {'N': '0'},\n",
       "  'PAY_2': {'N': '0'},\n",
       "  'PAY_0': {'N': '0'},\n",
       "  'SEX': {'N': '2'},\n",
       "  'PAY_6': {'N': '0'},\n",
       "  'LIMIT_BAL': {'N': '100000'},\n",
       "  'PAY_5': {'N': '0'},\n",
       "  'PAY_4': {'N': '0'},\n",
       "  'EDUCATION': {'N': '2'},\n",
       "  'MARRIAGE': {'N': '1'},\n",
       "  'ID': {'S': '5344967f-048b-4c46-875f-a2878a184f4f'},\n",
       "  'AGE': {'N': '24'}},\n",
       " {'PAY_3': {'N': '0'},\n",
       "  'PAY_2': {'N': '0'},\n",
       "  'PAY_0': {'N': '0'},\n",
       "  'SEX': {'N': '1'},\n",
       "  'PAY_6': {'N': '0'},\n",
       "  'LIMIT_BAL': {'N': '45'},\n",
       "  'PAY_5': {'N': '0'},\n",
       "  'PAY_4': {'N': '0'},\n",
       "  'EDUCATION': {'N': '1'},\n",
       "  'MARRIAGE': {'N': '1'},\n",
       "  'ID': {'S': '0e883e61-fca4-4506-bbdb-6c44bf2eb926'},\n",
       "  'AGE': {'N': '40'}},\n",
       " {'PAY_3': {'N': '0'},\n",
       "  'PAY_2': {'N': '0'},\n",
       "  'PAY_0': {'N': '0'},\n",
       "  'SEX': {'N': '1'},\n",
       "  'PAY_6': {'N': '0'},\n",
       "  'LIMIT_BAL': {'N': '150000'},\n",
       "  'PAY_5': {'N': '0'},\n",
       "  'PAY_4': {'N': '0'},\n",
       "  'EDUCATION': {'N': '2'},\n",
       "  'MARRIAGE': {'N': '1'},\n",
       "  'ID': {'S': '83c96beb-b430-403c-b303-25c83a1413e0'},\n",
       "  'AGE': {'N': '24'}},\n",
       " {'PAY_3': {'N': '0'},\n",
       "  'PAY_2': {'N': '0'},\n",
       "  'PAY_0': {'N': '0'},\n",
       "  'SEX': {'N': '1'},\n",
       "  'PAY_6': {'N': '0'},\n",
       "  'LIMIT_BAL': {'N': '45'},\n",
       "  'PAY_5': {'N': '0'},\n",
       "  'PAY_4': {'N': '0'},\n",
       "  'EDUCATION': {'N': '1'},\n",
       "  'MARRIAGE': {'N': '1'},\n",
       "  'ID': {'S': 'fa9f2087-e6ea-4e50-b9f9-da9df8a80e13'},\n",
       "  'AGE': {'N': '40'}}]"
      ]
     },
     "execution_count": 17,
     "metadata": {},
     "output_type": "execute_result"
    }
   ],
   "source": [
    "items"
   ]
  },
  {
   "cell_type": "code",
   "execution_count": null,
   "metadata": {},
   "outputs": [],
   "source": []
  }
 ],
 "metadata": {
  "kernelspec": {
   "display_name": "Python 3.11.6 ('.venv': venv)",
   "language": "python",
   "name": "python3"
  },
  "language_info": {
   "codemirror_mode": {
    "name": "ipython",
    "version": 3
   },
   "file_extension": ".py",
   "mimetype": "text/x-python",
   "name": "python",
   "nbconvert_exporter": "python",
   "pygments_lexer": "ipython3",
   "version": "3.11.6"
  },
  "orig_nbformat": 4,
  "vscode": {
   "interpreter": {
    "hash": "833ea668925fffba93d0949d79f1301af0938e1129b06752182a609c3421026c"
   }
  }
 },
 "nbformat": 4,
 "nbformat_minor": 2
}
